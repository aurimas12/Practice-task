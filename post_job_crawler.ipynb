{
  "nbformat": 4,
  "nbformat_minor": 0,
  "metadata": {
    "colab": {
      "provenance": [],
      "authorship_tag": "ABX9TyPLuSlq3iFkcV99us41rnWd",
      "include_colab_link": true
    },
    "kernelspec": {
      "name": "python3",
      "display_name": "Python 3"
    },
    "language_info": {
      "name": "python"
    }
  },
  "cells": [
    {
      "cell_type": "markdown",
      "metadata": {
        "id": "view-in-github",
        "colab_type": "text"
      },
      "source": [
        "<a href=\"https://colab.research.google.com/github/aurimas12/Practice-task/blob/main/post_job_crawler.ipynb\" target=\"_parent\"><img src=\"https://colab.research.google.com/assets/colab-badge.svg\" alt=\"Open In Colab\"/></a>"
      ]
    },
    {
      "cell_type": "code",
      "execution_count": 113,
      "metadata": {
        "id": "cMUso7TnBj-q"
      },
      "outputs": [],
      "source": [
        "import requests\n",
        "from bs4 import BeautifulSoup"
      ]
    },
    {
      "cell_type": "code",
      "source": [
        "url='https://www.cvbankas.lt'\n",
        "page=requests.get(url)\n",
        "soup=BeautifulSoup(page.content,'html.parser')"
      ],
      "metadata": {
        "id": "jecNeVVuBmw6"
      },
      "execution_count": 114,
      "outputs": []
    },
    {
      "cell_type": "code",
      "source": [
        "posts=soup.find_all('article')\n",
        "post_counts=len(posts)"
      ],
      "metadata": {
        "id": "Yaa9UVxqBodt"
      },
      "execution_count": 116,
      "outputs": []
    },
    {
      "cell_type": "code",
      "source": [
        "sallary=posts[2].find('span', class_=\"salary_amount\").text \n",
        "title=posts[2].find('h3', class_=\"list_h3\").text\n",
        "image_src=posts[2].find('img')['src'] \n",
        "city=posts[2].find('span', class_=\"txt_list_1\").text\n",
        "post_date=posts[2].find('span', class_=\"txt_list_2\").text\n",
        "company=posts[2].find('span', class_=\"dib mt5\").text\n",
        "post_link=posts[2].find('a',href=True)['href']\n",
        "sallary_type=posts[2].find('span', class_=\"salary_calculation\").text\n",
        "post_id=posts[2].find('div', class_=\"jobadlist_ad_anchor\")['id']"
      ],
      "metadata": {
        "colab": {
          "base_uri": "https://localhost:8080/",
          "height": 36
        },
        "id": "PmFTpf1RNY_4",
        "outputId": "04c4e7be-d536-425a-d743-03fd3f404eb2"
      },
      "execution_count": 83,
      "outputs": [
        {
          "output_type": "execute_result",
          "data": {
            "text/plain": [
              "'jobad_9403953'"
            ],
            "application/vnd.google.colaboratory.intrinsic+json": {
              "type": "string"
            }
          },
          "metadata": {},
          "execution_count": 83
        }
      ]
    },
    {
      "cell_type": "code",
      "source": [
        "def try_sallary_amount(post):\n",
        "  amount=''\n",
        "  try:\n",
        "    amount=post.find('span', class_=\"salary_amount\").text \n",
        "  except:\n",
        "    amount=None\n",
        "  return amount\n",
        "\n",
        "def try_sallary_calculation(post):\n",
        "  calc=''\n",
        "  try:\n",
        "    calc=post.find('span', class_=\"salary_calculation\").text\n",
        "  except:\n",
        "    calc=None\n",
        "  return calc\n",
        "\n",
        "def try_post_date(post):\n",
        "  post_date=''\n",
        "  try:\n",
        "    post_date=post.find('span', class_=\"txt_list_2\").text \n",
        "  except:\n",
        "    post_date=None\n",
        "  return post_date"
      ],
      "metadata": {
        "id": "z3OIw_5uVET0"
      },
      "execution_count": 129,
      "outputs": []
    },
    {
      "cell_type": "code",
      "source": [
        "post_list=[]\n",
        "\n",
        "for i in posts:\n",
        "  post_date=try_post_date(i)\n",
        "  sallary=try_sallary_amount(i)\n",
        "  sallary_calc=try_sallary_calculation(i)\n",
        "\n",
        "  title=i.find('h3', class_=\"list_h3\").text\n",
        "  img_src=i.find('img')['src'] \n",
        "  city=i.find('span', class_=\"txt_list_1\").text\n",
        "  company=i.find('span', class_=\"dib mt5\").text\n",
        "  post_link=i.find('a',href=True)['href']\n",
        "  post_id=i.find('div', class_=\"jobadlist_ad_anchor\")['id']\n",
        "\n",
        "\n",
        "\n",
        "  post_data={\n",
        "      'id':post_id,\n",
        "      'title':title,\n",
        "      'company':company,\n",
        "      'city':city,\n",
        "      'post_link':post_link,\n",
        "      'image_src':img_src,\n",
        "      'sallary':sallary,\n",
        "      'sallary_calc':sallary_calc,\n",
        "      'post_date':post_date\n",
        "  }\n",
        "  post_list.append(post_data)\n",
        "len(post_list)"
      ],
      "metadata": {
        "colab": {
          "base_uri": "https://localhost:8080/"
        },
        "id": "IoHWxhCJS-6b",
        "outputId": "317f63e1-199d-4ebe-a00f-e21a641987a6"
      },
      "execution_count": 136,
      "outputs": [
        {
          "output_type": "execute_result",
          "data": {
            "text/plain": [
              "83"
            ]
          },
          "metadata": {},
          "execution_count": 136
        }
      ]
    },
    {
      "cell_type": "code",
      "source": [
        "post_list[11]"
      ],
      "metadata": {
        "colab": {
          "base_uri": "https://localhost:8080/"
        },
        "id": "Lz6sqeXCZp47",
        "outputId": "5e19b643-01a2-46ea-b699-8b05413607f6"
      },
      "execution_count": 140,
      "outputs": [
        {
          "output_type": "execute_result",
          "data": {
            "text/plain": [
              "{'id': 'jobad_9324654',\n",
              " 'title': 'Pardavimų vadybininkas (-ė)',\n",
              " 'company': 'UAB „NoriuNoriuNoriu“',\n",
              " 'city': 'Vilniuje',\n",
              " 'post_link': 'https://www.cvbankas.lt/pardavimu-vadybininkas-e-vilniuje/1-9324654',\n",
              " 'image_src': 'https://cvbankas-img.dgn.lt/companylogo_2_21027136/noriunoriunoriu.jpg',\n",
              " 'sallary': '1200',\n",
              " 'sallary_calc': 'Į rankas',\n",
              " 'post_date': 'prieš 2 d.'}"
            ]
          },
          "metadata": {},
          "execution_count": 140
        }
      ]
    }
  ]
}